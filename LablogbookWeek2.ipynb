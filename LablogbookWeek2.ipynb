{
  "nbformat": 4,
  "nbformat_minor": 0,
  "metadata": {
    "colab": {
      "provenance": [],
      "toc_visible": true
    },
    "kernelspec": {
      "name": "python3",
      "display_name": "Python 3"
    },
    "language_info": {
      "name": "python"
    }
  },
  "cells": [
    {
      "cell_type": "code",
      "execution_count": 9,
      "metadata": {
        "colab": {
          "base_uri": "https://localhost:8080/"
        },
        "id": "FWDYm1FTs3kf",
        "outputId": "55584c73-a024-4805-b900-2aee52d29921"
      },
      "outputs": [
        {
          "output_type": "stream",
          "name": "stdout",
          "text": [
            "SID = 2463693\n"
          ]
        }
      ],
      "source": [
        "#Lab Logbook Week 2\n",
        "# Question Number 1\n",
        "import pandas as pd\n",
        "print(\"SID = 2463693\")"
      ]
    },
    {
      "cell_type": "code",
      "source": [
        "df = pd.read_csv(\"adult_data_mini.csv\")"
      ],
      "metadata": {
        "id": "XNHl_IZDtTZn"
      },
      "execution_count": 10,
      "outputs": []
    },
    {
      "cell_type": "code",
      "source": [
        "n = 3 #according to last number of my SID"
      ],
      "metadata": {
        "id": "Sg2wRExGuAHI"
      },
      "execution_count": 11,
      "outputs": []
    },
    {
      "cell_type": "code",
      "source": [
        "def hoursReduction(df, n):\n",
        "    df['reduced_hours_per_week'] = df['hours-per-week'] - n\n",
        "    return df"
      ],
      "metadata": {
        "id": "AxplopTpugCg"
      },
      "execution_count": 12,
      "outputs": []
    },
    {
      "cell_type": "code",
      "source": [
        "df = hoursReduction(df, n)  #caling reduction function"
      ],
      "metadata": {
        "id": "969vDQBkuyxk"
      },
      "execution_count": 13,
      "outputs": []
    },
    {
      "cell_type": "code",
      "source": [
        "group_original = df.groupby(['relationship', 'hours-per-week']).size().reset_index(name='count')"
      ],
      "metadata": {
        "id": "bQ40xXSfbwvB"
      },
      "execution_count": 20,
      "outputs": []
    },
    {
      "cell_type": "code",
      "source": [
        "group_reduced = df.groupby(['relationship', 'reduced_hours_per_week']).size().reset_index(name='count')"
      ],
      "metadata": {
        "id": "Ds_0ersebzVz"
      },
      "execution_count": 22,
      "outputs": []
    },
    {
      "cell_type": "code",
      "source": [
        "print(\"Unaltered File:\\n\", group_original.head())\n",
        "print(\"\\nAltered and Reduced File:\\n\", group_reduced.head())"
      ],
      "metadata": {
        "colab": {
          "base_uri": "https://localhost:8080/"
        },
        "id": "ee5VXh6bb2Gf",
        "outputId": "dfac0dbb-09fc-467f-854e-b956b5f9262f"
      },
      "execution_count": 17,
      "outputs": [
        {
          "output_type": "stream",
          "name": "stdout",
          "text": [
            "Unaltered File:\n",
            "      relationship  hours-per-week  count\n",
            "0         Husband              13      1\n",
            "1         Husband              40      4\n",
            "2         Husband              45      1\n",
            "3         Husband              80      1\n",
            "4   Not-in-family              16      1\n",
            "\n",
            "Altered and Reduced File:\n",
            "      relationship  reduced_hours_per_week  count\n",
            "0         Husband                      10      1\n",
            "1         Husband                      37      4\n",
            "2         Husband                      42      1\n",
            "3         Husband                      77      1\n",
            "4   Not-in-family                      13      1\n"
          ]
        }
      ]
    }
  ]
}