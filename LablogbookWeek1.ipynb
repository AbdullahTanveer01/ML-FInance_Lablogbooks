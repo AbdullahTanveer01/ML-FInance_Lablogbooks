{
  "nbformat": 4,
  "nbformat_minor": 0,
  "metadata": {
    "colab": {
      "provenance": []
    },
    "kernelspec": {
      "name": "python3",
      "display_name": "Python 3"
    },
    "language_info": {
      "name": "python"
    }
  },
  "cells": [
    {
      "cell_type": "code",
      "execution_count": 2,
      "metadata": {
        "colab": {
          "base_uri": "https://localhost:8080/"
        },
        "id": "FWDYm1FTs3kf",
        "outputId": "9a841b5a-3671-40b5-b12c-2b6b50fa8888"
      },
      "outputs": [
        {
          "output_type": "stream",
          "name": "stdout",
          "text": [
            "SID = 2463693\n"
          ]
        }
      ],
      "source": [
        "#Lab Logbook Week 1\n",
        "# Question Number 1\n",
        "import numpy as np\n",
        "print(\"SID = 2463693\")"
      ]
    },
    {
      "cell_type": "code",
      "source": [
        "Last_Two= 93\n",
        "new = np.arange(Last_Two)\n",
        "print(\"New Vector is\", new)"
      ],
      "metadata": {
        "colab": {
          "base_uri": "https://localhost:8080/"
        },
        "id": "XNHl_IZDtTZn",
        "outputId": "f4fc38fb-14fd-403b-a19e-b35bb7a3dd56"
      },
      "execution_count": 3,
      "outputs": [
        {
          "output_type": "stream",
          "name": "stdout",
          "text": [
            "New Vector is [ 0  1  2  3  4  5  6  7  8  9 10 11 12 13 14 15 16 17 18 19 20 21 22 23\n",
            " 24 25 26 27 28 29 30 31 32 33 34 35 36 37 38 39 40 41 42 43 44 45 46 47\n",
            " 48 49 50 51 52 53 54 55 56 57 58 59 60 61 62 63 64 65 66 67 68 69 70 71\n",
            " 72 73 74 75 76 77 78 79 80 81 82 83 84 85 86 87 88 89 90 91 92]\n"
          ]
        }
      ]
    },
    {
      "cell_type": "code",
      "source": [
        "#part 2\n",
        "New_reshaped = new.reshape(1, -1)\n",
        "print(\"New 2D shape will be\", New_reshaped)"
      ],
      "metadata": {
        "colab": {
          "base_uri": "https://localhost:8080/"
        },
        "id": "Sg2wRExGuAHI",
        "outputId": "090c2a9d-3b13-4416-c82d-9570cf30fd93"
      },
      "execution_count": 5,
      "outputs": [
        {
          "output_type": "stream",
          "name": "stdout",
          "text": [
            "New 2D shape will be [[ 0  1  2  3  4  5  6  7  8  9 10 11 12 13 14 15 16 17 18 19 20 21 22 23\n",
            "  24 25 26 27 28 29 30 31 32 33 34 35 36 37 38 39 40 41 42 43 44 45 46 47\n",
            "  48 49 50 51 52 53 54 55 56 57 58 59 60 61 62 63 64 65 66 67 68 69 70 71\n",
            "  72 73 74 75 76 77 78 79 80 81 82 83 84 85 86 87 88 89 90 91 92]]\n"
          ]
        }
      ]
    },
    {
      "cell_type": "code",
      "source": [
        "#part 3\n",
        "copied_shape = New_reshaped.copy()\n",
        "print(\"copied =\", copied_shape)"
      ],
      "metadata": {
        "colab": {
          "base_uri": "https://localhost:8080/"
        },
        "id": "AxplopTpugCg",
        "outputId": "9f5b426a-4678-4914-86ef-c307c31a017f"
      },
      "execution_count": 6,
      "outputs": [
        {
          "output_type": "stream",
          "name": "stdout",
          "text": [
            "copied = [[ 0  1  2  3  4  5  6  7  8  9 10 11 12 13 14 15 16 17 18 19 20 21 22 23\n",
            "  24 25 26 27 28 29 30 31 32 33 34 35 36 37 38 39 40 41 42 43 44 45 46 47\n",
            "  48 49 50 51 52 53 54 55 56 57 58 59 60 61 62 63 64 65 66 67 68 69 70 71\n",
            "  72 73 74 75 76 77 78 79 80 81 82 83 84 85 86 87 88 89 90 91 92]]\n"
          ]
        }
      ]
    },
    {
      "cell_type": "code",
      "source": [
        "#part 4\n",
        "print(\"shape of Variable is\", copied_shape.shape)"
      ],
      "metadata": {
        "colab": {
          "base_uri": "https://localhost:8080/"
        },
        "id": "969vDQBkuyxk",
        "outputId": "4e078e32-d461-4067-96d9-38dbb93f4fd9"
      },
      "execution_count": 7,
      "outputs": [
        {
          "output_type": "stream",
          "name": "stdout",
          "text": [
            "shape of Variable is (1, 93)\n"
          ]
        }
      ]
    }
  ]
}